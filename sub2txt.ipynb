{
 "cells": [
  {
   "cell_type": "markdown",
   "metadata": {},
   "source": [
    "将字幕转换为txt文件，支持vtt文件或者srt文件。"
   ]
  },
  {
   "cell_type": "code",
   "execution_count": 2,
   "metadata": {},
   "outputs": [],
   "source": [
    "import srt # https://github.com/cdown/srt 同时考虑转换到 https://github.com/tkarabela/pysubs2 因为可以支持ass\n",
    "import webvtt\n",
    "import os\n",
    "import pandas as pd\n",
    "import subprocess\n",
    "import argparse"
   ]
  },
  {
   "cell_type": "markdown",
   "metadata": {},
   "source": [
    "读取vtt文件到pandas DataFrame"
   ]
  },
  {
   "cell_type": "code",
   "execution_count": null,
   "metadata": {},
   "outputs": [],
   "source": [
    "def vtt_to_df(vtt_filename):\n",
    "    vtt=webvtt.read(vtt_filename)\n",
    "    lines = []\n",
    "    starts = []\n",
    "    ends = []\n",
    "    for line in vtt:\n",
    "        extend_text=line.text.strip().splitlines()\n",
    "        repeat=len(extend_text)\n",
    "        lines.extend(extend_text)\n",
    "        starts.extend([line.start] * repeat)\n",
    "        ends.extend([line.end] * repeat)\n",
    "\n",
    "    previous = None\n",
    "    new_lines=[]\n",
    "    new_starts=[]\n",
    "    new_ends=[]\n",
    "\n",
    "    for l,s,e in zip(lines,starts,ends):\n",
    "        if l == previous:\n",
    "            continue\n",
    "        else:\n",
    "            new_lines.append(l)\n",
    "            new_starts.append(s)\n",
    "            new_ends.append(e)\n",
    "            previous = l\n",
    "\n",
    "    df={\"start\":new_starts,\"end\":new_ends,\"text\":new_lines}\n",
    "    df=pd.DataFrame(df)\n",
    "    return df\n",
    "    "
   ]
  },
  {
   "cell_type": "markdown",
   "metadata": {},
   "source": [
    "读取srt文件，到pandas dataframe"
   ]
  },
  {
   "cell_type": "code",
   "execution_count": 37,
   "metadata": {},
   "outputs": [],
   "source": [
    "def srt_to_df(srt_filename):\n",
    "    with open(srt_filename, 'r', encoding='utf-8-sig') as f:\n",
    "        srt_content=f.read()\n",
    "#         srt_content=srt.make_legal_content(srt_content)\n",
    "    df=pd.DataFrame([[str(s.start).split(\" \")[-1],\n",
    "                      str(s.end).split(\" \")[-1],\n",
    "                      s.content] for s in srt.parse(srt_content)])\n",
    "    df.columns=[\"start\",\"end\",\"text\"]\n",
    "    return df"
   ]
  },
  {
   "cell_type": "markdown",
   "metadata": {},
   "source": [
    "读入的文件可能是两者之一"
   ]
  },
  {
   "cell_type": "code",
   "execution_count": null,
   "metadata": {},
   "outputs": [],
   "source": [
    "def sub_to_df(input_filename):\n",
    "    base_name,ext=os.path.splitext(input_filename)\n",
    "    if ext.lower()==\".vtt\":\n",
    "        df=vtt_to_df(input_filename)\n",
    "    elif ext.lower()==\".srt\":\n",
    "        df=srt_to_df(input_filename)\n",
    "    else:\n",
    "        print(ext)\n",
    "        raise Exception(\"not a subtitle file\") \n",
    "    return df"
   ]
  },
  {
   "cell_type": "markdown",
   "metadata": {},
   "source": [
    "将pandas dataframe转换为纯文本"
   ]
  },
  {
   "cell_type": "code",
   "execution_count": 38,
   "metadata": {},
   "outputs": [],
   "source": [
    "def df_to_txt(df):\n",
    "    transcript=\"\\n\".join(df[\"text\"])\n",
    "    return transcript "
   ]
  },
  {
   "cell_type": "markdown",
   "metadata": {},
   "source": [
    "将文本写入到文件中"
   ]
  },
  {
   "cell_type": "code",
   "execution_count": null,
   "metadata": {},
   "outputs": [],
   "source": [
    "def write_to_txt(output_filename, text):\n",
    "    with open(output_filename,\"w\") as f:\n",
    "        f.write(text)"
   ]
  },
  {
   "cell_type": "markdown",
   "metadata": {},
   "source": [
    "对于未曾定义输出文件名的，将后缀改为txt作为输出文件名"
   ]
  },
  {
   "cell_type": "code",
   "execution_count": null,
   "metadata": {},
   "outputs": [],
   "source": [
    "def repeat_input_to_output_filename(input_filename):\n",
    "    base_name,ext=os.path.splitext(input_filename)\n",
    "    return(base_name+\".txt\")"
   ]
  },
  {
   "cell_type": "markdown",
   "metadata": {},
   "source": [
    "处理每一个单独文件"
   ]
  },
  {
   "cell_type": "code",
   "execution_count": null,
   "metadata": {},
   "outputs": [],
   "source": [
    "def one_sub_to_txt(input_filename, output_filename):\n",
    "    df=sub_to_df(input_filename)\n",
    "    text=df_to_txt(df)\n",
    "    write_to_txt(output_filename, text)"
   ]
  },
  {
   "cell_type": "markdown",
   "metadata": {},
   "source": [
    "遍历目录下所有扩展名在```ext=(\"vtt\",\"srt\")```内的文件，返回所有文件名"
   ]
  },
  {
   "cell_type": "code",
   "execution_count": 32,
   "metadata": {},
   "outputs": [],
   "source": [
    "def get_sub_files(rootDir,file_list,ext): \n",
    "    for lists in os.listdir(rootDir): \n",
    "        name = os.path.join(rootDir, lists)  \n",
    "        if os.path.isdir(name): \n",
    "            get_sub_files(name,file_list,ext)\n",
    "        elif os.path.isfile(name):\n",
    "            if name.endswith(ext):\n",
    "                file_list.append(name)\n",
    "    return file_list"
   ]
  },
  {
   "cell_type": "markdown",
   "metadata": {},
   "source": [
    "argparse是一种好用的定义命令行参数的工具，本次定义如下：\n",
    "* -p 输入路径，遍历路径下所有字幕文件，将其转换为txt，若-p存在，则-i，-o无效\n",
    "* -i 输入单一文件名，将其转换为txt\n",
    "* -o 在-p存在时无效，对于单一文件，-o指定了输出txt文件名"
   ]
  },
  {
   "cell_type": "code",
   "execution_count": null,
   "metadata": {},
   "outputs": [],
   "source": [
    "def arg_parse():\n",
    "    '''\n",
    "    解析命令行参数\n",
    "    '''\n",
    "    # 创建解析步骤\n",
    "    parser = argparse.ArgumentParser(description='Convert subtitle file to txt.')\n",
    "\n",
    "    # 添加参数步骤\n",
    "    parser.add_argument(\"input\",type=str, help='subtitle file, the filetype should be vtt or srt. \\\n",
    "                        \\n or a path' )\n",
    "    parser.add_argument('-o','--output',  type=str, \n",
    "                       help='output filename.')\n",
    "\n",
    "    # 解析参数步骤  \n",
    "    args = parser.parse_args()\n",
    "    return(args)"
   ]
  },
  {
   "cell_type": "code",
   "execution_count": null,
   "metadata": {},
   "outputs": [],
   "source": [
    "def display_well_done(input_filename, output_filename):\n",
    "    print(\"\\n   {} \\n-> {} \".format(os.path.basename(input_filename), os.path.basename(output_filename)))\n"
   ]
  },
  {
   "cell_type": "code",
   "execution_count": null,
   "metadata": {},
   "outputs": [],
   "source": [
    "if __name__==\"__main__\":\n",
    "    # 解析命令行参数\n",
    "    args=arg_parse()\n",
    "    subtitle_type=(\"vtt\",\"srt\") # 考虑增加ass的支持，但似乎还没找到同时支持vtt，srt，ass三者的库，当然写个互转也可以，但比较懒\n",
    "    \n",
    "    if os.path.isdir(args.input): # 如果是处理目录\n",
    "        file_list=get_sub_files(args.input,[],subtitle_type) # 遍历目录下所有字幕文件\n",
    "        for input_filename in file_list: # 对每一个文件进行处理\n",
    "            output_filename=repeat_input_to_output_filename(input_filename)\n",
    "            one_sub_to_txt(input_filename, output_filename)\n",
    "            display_well_done(input_filename, output_filename)\n",
    "    elif os.path.isfile(args.input): # 如果是处理单个文件\n",
    "        if args.output: # 如果指定了输出名称，使用指定的文件名\n",
    "            one_sub_to_txt(args.input, args.output)\n",
    "            display_well_done(args.input, args.output)\n",
    "        else: # 若没有指定输出名称，则将后缀直接替换为txt使用\n",
    "            output_filename=repeat_input_to_output_filename(args.input)\n",
    "            one_sub_to_txt(args.input, output_filename)\n",
    "            display_well_done(args.input, output_filename)\n",
    "    else:\n",
    "        raise Exception(\"not a file or a path\") \n",
    "            "
   ]
  }
 ],
 "metadata": {
  "kernelspec": {
   "display_name": "Python 3",
   "language": "python",
   "name": "python3"
  },
  "language_info": {
   "codemirror_mode": {
    "name": "ipython",
    "version": 3
   },
   "file_extension": ".py",
   "mimetype": "text/x-python",
   "name": "python",
   "nbconvert_exporter": "python",
   "pygments_lexer": "ipython3",
   "version": "3.6.8"
  }
 },
 "nbformat": 4,
 "nbformat_minor": 2
}
